{
 "cells": [
  {
   "cell_type": "code",
   "execution_count": 2,
   "id": "8ab77863",
   "metadata": {},
   "outputs": [],
   "source": [
    "import numpy as np\n",
    "import pandas as pd\n",
    "import warnings\n",
    "warnings.filterwarnings(\"ignore\")\n",
    "#from jupyterthemes import get_themes\n",
    "#import jupyterthemes as jt\n",
    "#from jupyterthemes.stylefx import set_nb_theme\n",
    "#set_nb_theme('oceans16')\n",
    "#!jt -l"
   ]
  },
  {
   "cell_type": "markdown",
   "id": "7d43223d",
   "metadata": {},
   "source": [
    "Data Structures:\n",
    "+ Series (1d), \n",
    "+ DataFrames (2d), \n",
    "+ Panel (MultiDimensions)"
   ]
  },
  {
   "cell_type": "code",
   "execution_count": 3,
   "id": "29c9dec2",
   "metadata": {},
   "outputs": [
    {
     "name": "stdout",
     "output_type": "stream",
     "text": [
      "0    c\n",
      "1    i\n",
      "2    g\n",
      "3    a\n",
      "4    r\n",
      "dtype: object\n"
     ]
    }
   ],
   "source": [
    "data = np.array(['c','i','g','a','r'])\n",
    "ser = pd.Series(data)\n",
    "print(ser)"
   ]
  },
  {
   "cell_type": "code",
   "execution_count": 6,
   "id": "aa90325e-52d2-4f1d-9dff-1d89e7b244c7",
   "metadata": {},
   "outputs": [
    {
     "data": {
      "text/plain": [
       "1    C\n",
       "2    I\n",
       "3    G\n",
       "4    A\n",
       "5    R\n",
       "dtype: object"
      ]
     },
     "execution_count": 6,
     "metadata": {},
     "output_type": "execute_result"
    }
   ],
   "source": [
    "dic = {1:'C',2:'I',3:'G',4:'A',5:'R'}\n",
    "pd.Series(dic)"
   ]
  },
  {
   "cell_type": "code",
   "execution_count": 7,
   "id": "2aa2553f-c770-4c07-bb14-ea4a39418dce",
   "metadata": {},
   "outputs": [
    {
     "data": {
      "text/plain": [
       "0    2\n",
       "dtype: int64"
      ]
     },
     "execution_count": 7,
     "metadata": {},
     "output_type": "execute_result"
    }
   ],
   "source": [
    "dic = {'C':1,'I':2,'G':3,'A':4,'R':5}\n",
    "pd.Series(dic['I'])"
   ]
  },
  {
   "cell_type": "code",
   "execution_count": 8,
   "id": "0ff50324-4b97-4c03-8ab8-74b46d44ef1e",
   "metadata": {},
   "outputs": [
    {
     "data": {
      "text/plain": [
       "'a'"
      ]
     },
     "execution_count": 8,
     "metadata": {},
     "output_type": "execute_result"
    }
   ],
   "source": [
    "data = np.array(['c','i','g','a','r'])\n",
    "z = pd.Series(data)\n",
    "z[3]"
   ]
  },
  {
   "cell_type": "code",
   "execution_count": 9,
   "id": "ffd5e53f-c418-4308-8aed-d73b5f959957",
   "metadata": {},
   "outputs": [
    {
     "data": {
      "text/plain": [
       "3    a\n",
       "4    r\n",
       "dtype: object"
      ]
     },
     "execution_count": 9,
     "metadata": {},
     "output_type": "execute_result"
    }
   ],
   "source": [
    "data = np.array(['c','i','g','a','r'])\n",
    "z = pd.Series(data)\n",
    "z[3:]"
   ]
  },
  {
   "cell_type": "code",
   "execution_count": 10,
   "id": "be053748-5ba2-495e-bacf-36218a4b6ef3",
   "metadata": {},
   "outputs": [
    {
     "data": {
      "text/plain": [
       "0    c\n",
       "1    i\n",
       "2    g\n",
       "dtype: object"
      ]
     },
     "execution_count": 10,
     "metadata": {},
     "output_type": "execute_result"
    }
   ],
   "source": [
    "data = np.array(['c','i','g','a','r'])\n",
    "z = pd.Series(data)\n",
    "z[:3]"
   ]
  },
  {
   "cell_type": "code",
   "execution_count": 11,
   "id": "91e09f0b-e5b4-4dd1-9d60-70dec452a884",
   "metadata": {},
   "outputs": [
    {
     "data": {
      "text/plain": [
       "1    c\n",
       "2    i\n",
       "3    g\n",
       "4    a\n",
       "5    r\n",
       "dtype: object"
      ]
     },
     "execution_count": 11,
     "metadata": {},
     "output_type": "execute_result"
    }
   ],
   "source": [
    "data = np.array(['c','i','g','a','r'])\n",
    "z = pd.Series(data, index = [1,2,3,4,5])\n",
    "z"
   ]
  },
  {
   "cell_type": "markdown",
   "id": "0ef43e38-2324-4e92-97c2-18ef4131f723",
   "metadata": {
    "tags": []
   },
   "source": [
    "Attributes:\n",
    "+ Index\n",
    "+ Shape\n",
    "+ dtype\n",
    "+ size\n",
    "+ empty\n",
    "+ hasnans\n",
    "+ nbytes\n",
    "+ ndim\n",
    "+ itemsize"
   ]
  },
  {
   "cell_type": "code",
   "execution_count": 12,
   "id": "32535f76-2663-46be-9dc2-8718bb1e3268",
   "metadata": {},
   "outputs": [
    {
     "name": "stdout",
     "output_type": "stream",
     "text": [
      "RangeIndex(start=0, stop=5, step=1)\n",
      "[ 1.  2.  3.  4. nan]\n",
      "float64\n",
      "5\n",
      "(5,)\n",
      "False\n",
      "True\n",
      "40\n",
      "1\n"
     ]
    }
   ],
   "source": [
    "x = pd.Series([1,2,3,4,None])\n",
    "print(x.index)\n",
    "print(x.values)\n",
    "print(x.dtype)\n",
    "print(x.size)\n",
    "print(x.shape)\n",
    "print(x.empty)\n",
    "print(x.hasnans)\n",
    "print(x.nbytes)\n",
    "print(x.ndim)"
   ]
  },
  {
   "cell_type": "code",
   "execution_count": 10,
   "id": "8e26823f-5951-4888-a192-b713367a6385",
   "metadata": {},
   "outputs": [
    {
     "name": "stdout",
     "output_type": "stream",
     "text": [
      "0    1.0\n",
      "1    2.0\n",
      "2    0.0\n",
      "3    4.0\n",
      "4    NaN\n",
      "dtype: float64 \n",
      "\n",
      "RangeIndex(start=0, stop=5, step=1)\n",
      "[ 1.  2.  0.  4. nan]\n",
      "float64\n",
      "5\n",
      "(5,)\n",
      "False\n",
      "True\n",
      "40\n",
      "1\n"
     ]
    }
   ],
   "source": [
    "x = pd.Series([1,2,0,4,None])\n",
    "print(x,'\\n')\n",
    "print(x.index)\n",
    "print(x.values)\n",
    "print(x.dtype)\n",
    "print(x.size)\n",
    "print(x.shape)\n",
    "print(x.empty)\n",
    "print(x.hasnans)\n",
    "print(x.nbytes)\n",
    "print(x.ndim)"
   ]
  },
  {
   "cell_type": "code",
   "execution_count": 13,
   "id": "1ff38dcd-d7b6-4d93-b044-3b6890ae810b",
   "metadata": {},
   "outputs": [
    {
     "data": {
      "text/plain": [
       "0    Lol\n",
       "1    NaN\n",
       "2    NaN\n",
       "3    NaN\n",
       "dtype: object"
      ]
     },
     "execution_count": 13,
     "metadata": {},
     "output_type": "execute_result"
    }
   ],
   "source": [
    "#Series.map()\n",
    "a = pd.Series(['Lin','Jeg','Kedh','Gan'])\n",
    "a.map({'Lin':'Lol'})"
   ]
  },
  {
   "cell_type": "code",
   "execution_count": 14,
   "id": "eb4c5e26-ceff-4702-a6e4-13e89fcdce67",
   "metadata": {},
   "outputs": [
    {
     "name": "stdout",
     "output_type": "stream",
     "text": [
      "Empty DataFrame\n",
      "Columns: []\n",
      "Index: []\n"
     ]
    }
   ],
   "source": [
    "df = pd.DataFrame()\n",
    "print(df)"
   ]
  },
  {
   "cell_type": "code",
   "execution_count": 4,
   "id": "a227bac5-c553-450a-bf60-392ea82f7943",
   "metadata": {},
   "outputs": [
    {
     "data": {
      "text/html": [
       "<div>\n",
       "<style scoped>\n",
       "    .dataframe tbody tr th:only-of-type {\n",
       "        vertical-align: middle;\n",
       "    }\n",
       "\n",
       "    .dataframe tbody tr th {\n",
       "        vertical-align: top;\n",
       "    }\n",
       "\n",
       "    .dataframe thead th {\n",
       "        text-align: right;\n",
       "    }\n",
       "</style>\n",
       "<table border=\"1\" class=\"dataframe\">\n",
       "  <thead>\n",
       "    <tr style=\"text-align: right;\">\n",
       "      <th></th>\n",
       "      <th>0</th>\n",
       "    </tr>\n",
       "  </thead>\n",
       "  <tbody>\n",
       "    <tr>\n",
       "      <th>0</th>\n",
       "      <td>1</td>\n",
       "    </tr>\n",
       "    <tr>\n",
       "      <th>1</th>\n",
       "      <td>2</td>\n",
       "    </tr>\n",
       "    <tr>\n",
       "      <th>2</th>\n",
       "      <td>3</td>\n",
       "    </tr>\n",
       "    <tr>\n",
       "      <th>3</th>\n",
       "      <td>4</td>\n",
       "    </tr>\n",
       "    <tr>\n",
       "      <th>4</th>\n",
       "      <td>5</td>\n",
       "    </tr>\n",
       "  </tbody>\n",
       "</table>\n",
       "</div>"
      ],
      "text/plain": [
       "   0\n",
       "0  1\n",
       "1  2\n",
       "2  3\n",
       "3  4\n",
       "4  5"
      ]
     },
     "execution_count": 4,
     "metadata": {},
     "output_type": "execute_result"
    }
   ],
   "source": [
    "data = [1,2,3,4,5]\n",
    "df = pd.DataFrame(data)\n",
    "df"
   ]
  },
  {
   "cell_type": "code",
   "execution_count": 30,
   "id": "8c00bf52",
   "metadata": {},
   "outputs": [
    {
     "data": {
      "text/html": [
       "<div>\n",
       "<style scoped>\n",
       "    .dataframe tbody tr th:only-of-type {\n",
       "        vertical-align: middle;\n",
       "    }\n",
       "\n",
       "    .dataframe tbody tr th {\n",
       "        vertical-align: top;\n",
       "    }\n",
       "\n",
       "    .dataframe thead th {\n",
       "        text-align: right;\n",
       "    }\n",
       "</style>\n",
       "<table border=\"1\" class=\"dataframe\">\n",
       "  <thead>\n",
       "    <tr style=\"text-align: right;\">\n",
       "      <th></th>\n",
       "      <th>Name</th>\n",
       "      <th>Age</th>\n",
       "    </tr>\n",
       "  </thead>\n",
       "  <tbody>\n",
       "    <tr>\n",
       "      <th>0</th>\n",
       "      <td>Alex</td>\n",
       "      <td>10</td>\n",
       "    </tr>\n",
       "    <tr>\n",
       "      <th>1</th>\n",
       "      <td>Bob</td>\n",
       "      <td>12</td>\n",
       "    </tr>\n",
       "    <tr>\n",
       "      <th>2</th>\n",
       "      <td>Clarke</td>\n",
       "      <td>13</td>\n",
       "    </tr>\n",
       "  </tbody>\n",
       "</table>\n",
       "</div>"
      ],
      "text/plain": [
       "     Name  Age\n",
       "0    Alex   10\n",
       "1     Bob   12\n",
       "2  Clarke   13"
      ]
     },
     "execution_count": 30,
     "metadata": {},
     "output_type": "execute_result"
    }
   ],
   "source": [
    "data = [['Alex',10],['Bob',12],['Clarke',13]]\n",
    "df = pd.DataFrame(data,columns=['Name','Age'], dtype = int)\n",
    "df"
   ]
  },
  {
   "cell_type": "code",
   "execution_count": 57,
   "id": "fd815261",
   "metadata": {},
   "outputs": [
    {
     "data": {
      "text/html": [
       "<div>\n",
       "<style scoped>\n",
       "    .dataframe tbody tr th:only-of-type {\n",
       "        vertical-align: middle;\n",
       "    }\n",
       "\n",
       "    .dataframe tbody tr th {\n",
       "        vertical-align: top;\n",
       "    }\n",
       "\n",
       "    .dataframe thead th {\n",
       "        text-align: right;\n",
       "    }\n",
       "</style>\n",
       "<table border=\"1\" class=\"dataframe\">\n",
       "  <thead>\n",
       "    <tr style=\"text-align: right;\">\n",
       "      <th></th>\n",
       "      <th>Name</th>\n",
       "      <th>Age</th>\n",
       "    </tr>\n",
       "  </thead>\n",
       "  <tbody>\n",
       "  </tbody>\n",
       "</table>\n",
       "</div>"
      ],
      "text/plain": [
       "Empty DataFrame\n",
       "Columns: [Name, Age]\n",
       "Index: []"
      ]
     },
     "execution_count": 57,
     "metadata": {},
     "output_type": "execute_result"
    }
   ],
   "source": [
    "dat = {'Alex':10,'Bob':12,'Clarke':13}\n",
    "df = pd.DataFrame(dat, columns=['Name','Age'])\n",
    "df"
   ]
  },
  {
   "cell_type": "code",
   "execution_count": 37,
   "id": "0de06625",
   "metadata": {},
   "outputs": [
    {
     "data": {
      "text/html": [
       "<div>\n",
       "<style scoped>\n",
       "    .dataframe tbody tr th:only-of-type {\n",
       "        vertical-align: middle;\n",
       "    }\n",
       "\n",
       "    .dataframe tbody tr th {\n",
       "        vertical-align: top;\n",
       "    }\n",
       "\n",
       "    .dataframe thead th {\n",
       "        text-align: right;\n",
       "    }\n",
       "</style>\n",
       "<table border=\"1\" class=\"dataframe\">\n",
       "  <thead>\n",
       "    <tr style=\"text-align: right;\">\n",
       "      <th></th>\n",
       "      <th>Name</th>\n",
       "      <th>Age</th>\n",
       "    </tr>\n",
       "  </thead>\n",
       "  <tbody>\n",
       "    <tr>\n",
       "      <th>0</th>\n",
       "      <td>Alex</td>\n",
       "      <td>10</td>\n",
       "    </tr>\n",
       "    <tr>\n",
       "      <th>1</th>\n",
       "      <td>Bob</td>\n",
       "      <td>12</td>\n",
       "    </tr>\n",
       "    <tr>\n",
       "      <th>2</th>\n",
       "      <td>Clarke</td>\n",
       "      <td>13</td>\n",
       "    </tr>\n",
       "  </tbody>\n",
       "</table>\n",
       "</div>"
      ],
      "text/plain": [
       "     Name  Age\n",
       "0    Alex   10\n",
       "1     Bob   12\n",
       "2  Clarke   13"
      ]
     },
     "execution_count": 37,
     "metadata": {},
     "output_type": "execute_result"
    }
   ],
   "source": [
    "df = {'Name':['Alex','Bob','Clarke'],'Age':[10,12,13]}\n",
    "df = pd.DataFrame(df)\n",
    "df"
   ]
  },
  {
   "cell_type": "code",
   "execution_count": 43,
   "id": "14c29d2c",
   "metadata": {},
   "outputs": [
    {
     "data": {
      "text/html": [
       "<div>\n",
       "<style scoped>\n",
       "    .dataframe tbody tr th:only-of-type {\n",
       "        vertical-align: middle;\n",
       "    }\n",
       "\n",
       "    .dataframe tbody tr th {\n",
       "        vertical-align: top;\n",
       "    }\n",
       "\n",
       "    .dataframe thead th {\n",
       "        text-align: right;\n",
       "    }\n",
       "</style>\n",
       "<table border=\"1\" class=\"dataframe\">\n",
       "  <thead>\n",
       "    <tr style=\"text-align: right;\">\n",
       "      <th></th>\n",
       "      <th>Name</th>\n",
       "      <th>Age</th>\n",
       "    </tr>\n",
       "  </thead>\n",
       "  <tbody>\n",
       "    <tr>\n",
       "      <th>Rank 1</th>\n",
       "      <td>Linkedh</td>\n",
       "      <td>28</td>\n",
       "    </tr>\n",
       "    <tr>\n",
       "      <th>Rank 2</th>\n",
       "      <td>Jack</td>\n",
       "      <td>34</td>\n",
       "    </tr>\n",
       "    <tr>\n",
       "      <th>Rank 3</th>\n",
       "      <td>Steve</td>\n",
       "      <td>29</td>\n",
       "    </tr>\n",
       "    <tr>\n",
       "      <th>Rank 4</th>\n",
       "      <td>Jhon</td>\n",
       "      <td>40</td>\n",
       "    </tr>\n",
       "  </tbody>\n",
       "</table>\n",
       "</div>"
      ],
      "text/plain": [
       "           Name  Age\n",
       "Rank 1  Linkedh   28\n",
       "Rank 2     Jack   34\n",
       "Rank 3    Steve   29\n",
       "Rank 4     Jhon   40"
      ]
     },
     "execution_count": 43,
     "metadata": {},
     "output_type": "execute_result"
    }
   ],
   "source": [
    "df = {'Name':['Linkedh','Jack','Steve','Jhon'],'Age':[28,34,29,40]}\n",
    "df = pd.DataFrame(df, index = ['Rank 1','Rank 2','Rank 3','Rank 4'])\n",
    "df"
   ]
  },
  {
   "cell_type": "code",
   "execution_count": 59,
   "id": "667fe4ac",
   "metadata": {},
   "outputs": [
    {
     "data": {
      "text/html": [
       "<div>\n",
       "<style scoped>\n",
       "    .dataframe tbody tr th:only-of-type {\n",
       "        vertical-align: middle;\n",
       "    }\n",
       "\n",
       "    .dataframe tbody tr th {\n",
       "        vertical-align: top;\n",
       "    }\n",
       "\n",
       "    .dataframe thead th {\n",
       "        text-align: right;\n",
       "    }\n",
       "</style>\n",
       "<table border=\"1\" class=\"dataframe\">\n",
       "  <thead>\n",
       "    <tr style=\"text-align: right;\">\n",
       "      <th></th>\n",
       "      <th>Alex</th>\n",
       "      <th>Bob</th>\n",
       "      <th>Clarke</th>\n",
       "    </tr>\n",
       "  </thead>\n",
       "  <tbody>\n",
       "    <tr>\n",
       "      <th>0</th>\n",
       "      <td>10</td>\n",
       "      <td>12</td>\n",
       "      <td>13</td>\n",
       "    </tr>\n",
       "  </tbody>\n",
       "</table>\n",
       "</div>"
      ],
      "text/plain": [
       "   Alex  Bob  Clarke\n",
       "0    10   12      13"
      ]
     },
     "execution_count": 59,
     "metadata": {},
     "output_type": "execute_result"
    }
   ],
   "source": [
    "dat = [{'Alex':10,'Bob':12,'Clarke':13}]\n",
    "df = pd.DataFrame(dat)\n",
    "df"
   ]
  },
  {
   "cell_type": "markdown",
   "id": "353aed0e",
   "metadata": {},
   "source": [
    "### Column Operation\n",
    "+ Selection\n",
    "+ Addition\n",
    "+ Deletion"
   ]
  },
  {
   "cell_type": "code",
   "execution_count": 82,
   "id": "58d1ff9a",
   "metadata": {},
   "outputs": [
    {
     "data": {
      "text/html": [
       "<div>\n",
       "<style scoped>\n",
       "    .dataframe tbody tr th:only-of-type {\n",
       "        vertical-align: middle;\n",
       "    }\n",
       "\n",
       "    .dataframe tbody tr th {\n",
       "        vertical-align: top;\n",
       "    }\n",
       "\n",
       "    .dataframe thead th {\n",
       "        text-align: right;\n",
       "    }\n",
       "</style>\n",
       "<table border=\"1\" class=\"dataframe\">\n",
       "  <thead>\n",
       "    <tr style=\"text-align: right;\">\n",
       "      <th></th>\n",
       "      <th>one</th>\n",
       "      <th>two</th>\n",
       "    </tr>\n",
       "  </thead>\n",
       "  <tbody>\n",
       "    <tr>\n",
       "      <th>a</th>\n",
       "      <td>1</td>\n",
       "      <td>5</td>\n",
       "    </tr>\n",
       "    <tr>\n",
       "      <th>b</th>\n",
       "      <td>2</td>\n",
       "      <td>6</td>\n",
       "    </tr>\n",
       "    <tr>\n",
       "      <th>c</th>\n",
       "      <td>3</td>\n",
       "      <td>7</td>\n",
       "    </tr>\n",
       "    <tr>\n",
       "      <th>d</th>\n",
       "      <td>4</td>\n",
       "      <td>8</td>\n",
       "    </tr>\n",
       "  </tbody>\n",
       "</table>\n",
       "</div>"
      ],
      "text/plain": [
       "   one  two\n",
       "a    1    5\n",
       "b    2    6\n",
       "c    3    7\n",
       "d    4    8"
      ]
     },
     "execution_count": 82,
     "metadata": {},
     "output_type": "execute_result"
    }
   ],
   "source": [
    "df = {'one':pd.Series([1,2,3,4],index=['a','b','c','d']),'two':pd.Series([5,6,7,8],index=['a','b','c','d'])}\n",
    "df = pd.DataFrame(df)\n",
    "df"
   ]
  },
  {
   "cell_type": "code",
   "execution_count": 79,
   "id": "a92522aa",
   "metadata": {},
   "outputs": [
    {
     "data": {
      "text/plain": [
       "a    1\n",
       "b    2\n",
       "c    3\n",
       "d    4\n",
       "Name: one, dtype: int64"
      ]
     },
     "execution_count": 79,
     "metadata": {},
     "output_type": "execute_result"
    }
   ],
   "source": [
    "pd.DataFrame(df)['one']"
   ]
  },
  {
   "cell_type": "code",
   "execution_count": 81,
   "id": "c1b47a63",
   "metadata": {},
   "outputs": [
    {
     "data": {
      "text/plain": [
       "a    5\n",
       "b    6\n",
       "c    7\n",
       "d    8\n",
       "Name: two, dtype: int64"
      ]
     },
     "execution_count": 81,
     "metadata": {},
     "output_type": "execute_result"
    }
   ],
   "source": [
    "pd.DataFrame(df)['two']"
   ]
  },
  {
   "cell_type": "code",
   "execution_count": 87,
   "id": "45954cad",
   "metadata": {},
   "outputs": [
    {
     "data": {
      "text/html": [
       "<div>\n",
       "<style scoped>\n",
       "    .dataframe tbody tr th:only-of-type {\n",
       "        vertical-align: middle;\n",
       "    }\n",
       "\n",
       "    .dataframe tbody tr th {\n",
       "        vertical-align: top;\n",
       "    }\n",
       "\n",
       "    .dataframe thead th {\n",
       "        text-align: right;\n",
       "    }\n",
       "</style>\n",
       "<table border=\"1\" class=\"dataframe\">\n",
       "  <thead>\n",
       "    <tr style=\"text-align: right;\">\n",
       "      <th></th>\n",
       "      <th>one</th>\n",
       "      <th>two</th>\n",
       "    </tr>\n",
       "  </thead>\n",
       "  <tbody>\n",
       "    <tr>\n",
       "      <th>a</th>\n",
       "      <td>1.0</td>\n",
       "      <td>1</td>\n",
       "    </tr>\n",
       "    <tr>\n",
       "      <th>b</th>\n",
       "      <td>2.0</td>\n",
       "      <td>2</td>\n",
       "    </tr>\n",
       "    <tr>\n",
       "      <th>c</th>\n",
       "      <td>3.0</td>\n",
       "      <td>3</td>\n",
       "    </tr>\n",
       "    <tr>\n",
       "      <th>d</th>\n",
       "      <td>NaN</td>\n",
       "      <td>4</td>\n",
       "    </tr>\n",
       "  </tbody>\n",
       "</table>\n",
       "</div>"
      ],
      "text/plain": [
       "   one  two\n",
       "a  1.0    1\n",
       "b  2.0    2\n",
       "c  3.0    3\n",
       "d  NaN    4"
      ]
     },
     "execution_count": 87,
     "metadata": {},
     "output_type": "execute_result"
    }
   ],
   "source": [
    "df = {'one':pd.Series([1,2,3],index=['a','b','c']),'two':pd.Series([1,2,3,4],index=['a','b','c','d'])}\n",
    "pd.DataFrame(df)"
   ]
  },
  {
   "cell_type": "code",
   "execution_count": 100,
   "id": "199c82c3",
   "metadata": {},
   "outputs": [
    {
     "name": "stdout",
     "output_type": "stream",
     "text": [
      "   one  two\n",
      "a  1.0    1\n",
      "b  2.0    2\n",
      "c  3.0    3\n",
      "d  NaN    4\n",
      "   one  two  Three\n",
      "a  1.0    1   10.0\n",
      "b  2.0    2   20.0\n",
      "c  3.0    3   30.0\n",
      "d  NaN    4    NaN\n",
      "   one  two  Three  Total\n",
      "a  1.0    1   10.0   12.0\n",
      "b  2.0    2   20.0   24.0\n",
      "c  3.0    3   30.0   36.0\n",
      "d  NaN    4    NaN    NaN\n"
     ]
    }
   ],
   "source": [
    "#Adding a new column to an existing DataFrame\n",
    "df = {'one':pd.Series([1,2,3],index=['a','b','c']),'two':pd.Series([1,2,3,4],index=['a','b','c','d'])}\n",
    "df = pd.DataFrame(df)\n",
    "print(df)\n",
    "df['Three'] = pd.Series([10,20,30],index=['a','b','c'])\n",
    "print(df)\n",
    "df['Total'] = df['one'] + df['two'] + df['Three']\n",
    "print(df)"
   ]
  },
  {
   "cell_type": "code",
   "execution_count": 101,
   "id": "83d6d964",
   "metadata": {},
   "outputs": [
    {
     "name": "stdout",
     "output_type": "stream",
     "text": [
      "   one  two  Three  Total\n",
      "a  1.0    1   10.0   12.0\n",
      "b  2.0    2   20.0   24.0\n",
      "c  3.0    3   30.0   36.0\n",
      "d  NaN    4    NaN    NaN\n",
      "   one  two  Three\n",
      "a  1.0    1   10.0\n",
      "b  2.0    2   20.0\n",
      "c  3.0    3   30.0\n",
      "d  NaN    4    NaN\n"
     ]
    }
   ],
   "source": [
    "#Deleting columns\n",
    "print(df)\n",
    "del df['Total'] #or df.pop\n",
    "print(df)"
   ]
  },
  {
   "cell_type": "markdown",
   "id": "e1a8062f",
   "metadata": {},
   "source": [
    "### Row Operation\n",
    "+ Addition\n",
    "+ Selection\n",
    "+ Deletion"
   ]
  },
  {
   "cell_type": "code",
   "execution_count": 104,
   "id": "d7cee270",
   "metadata": {},
   "outputs": [
    {
     "data": {
      "text/html": [
       "<div>\n",
       "<style scoped>\n",
       "    .dataframe tbody tr th:only-of-type {\n",
       "        vertical-align: middle;\n",
       "    }\n",
       "\n",
       "    .dataframe tbody tr th {\n",
       "        vertical-align: top;\n",
       "    }\n",
       "\n",
       "    .dataframe thead th {\n",
       "        text-align: right;\n",
       "    }\n",
       "</style>\n",
       "<table border=\"1\" class=\"dataframe\">\n",
       "  <thead>\n",
       "    <tr style=\"text-align: right;\">\n",
       "      <th></th>\n",
       "      <th>one</th>\n",
       "      <th>two</th>\n",
       "    </tr>\n",
       "  </thead>\n",
       "  <tbody>\n",
       "    <tr>\n",
       "      <th>a</th>\n",
       "      <td>1.0</td>\n",
       "      <td>1</td>\n",
       "    </tr>\n",
       "    <tr>\n",
       "      <th>b</th>\n",
       "      <td>2.0</td>\n",
       "      <td>2</td>\n",
       "    </tr>\n",
       "    <tr>\n",
       "      <th>c</th>\n",
       "      <td>3.0</td>\n",
       "      <td>3</td>\n",
       "    </tr>\n",
       "    <tr>\n",
       "      <th>d</th>\n",
       "      <td>NaN</td>\n",
       "      <td>4</td>\n",
       "    </tr>\n",
       "  </tbody>\n",
       "</table>\n",
       "</div>"
      ],
      "text/plain": [
       "   one  two\n",
       "a  1.0    1\n",
       "b  2.0    2\n",
       "c  3.0    3\n",
       "d  NaN    4"
      ]
     },
     "execution_count": 104,
     "metadata": {},
     "output_type": "execute_result"
    }
   ],
   "source": [
    "df = {'one':pd.Series([1,2,3],index=['a','b','c']),'two':pd.Series([1,2,3,4],index=['a','b','c','d'])}\n",
    "pd.DataFrame(df)"
   ]
  },
  {
   "cell_type": "code",
   "execution_count": 107,
   "id": "b7095c1d",
   "metadata": {},
   "outputs": [
    {
     "data": {
      "text/html": [
       "<div>\n",
       "<style scoped>\n",
       "    .dataframe tbody tr th:only-of-type {\n",
       "        vertical-align: middle;\n",
       "    }\n",
       "\n",
       "    .dataframe tbody tr th {\n",
       "        vertical-align: top;\n",
       "    }\n",
       "\n",
       "    .dataframe thead th {\n",
       "        text-align: right;\n",
       "    }\n",
       "</style>\n",
       "<table border=\"1\" class=\"dataframe\">\n",
       "  <thead>\n",
       "    <tr style=\"text-align: right;\">\n",
       "      <th></th>\n",
       "      <th>one</th>\n",
       "      <th>two</th>\n",
       "    </tr>\n",
       "  </thead>\n",
       "  <tbody>\n",
       "    <tr>\n",
       "      <th>d</th>\n",
       "      <td>NaN</td>\n",
       "      <td>4</td>\n",
       "    </tr>\n",
       "    <tr>\n",
       "      <th>b</th>\n",
       "      <td>2.0</td>\n",
       "      <td>2</td>\n",
       "    </tr>\n",
       "    <tr>\n",
       "      <th>a</th>\n",
       "      <td>1.0</td>\n",
       "      <td>1</td>\n",
       "    </tr>\n",
       "  </tbody>\n",
       "</table>\n",
       "</div>"
      ],
      "text/plain": [
       "   one  two\n",
       "d  NaN    4\n",
       "b  2.0    2\n",
       "a  1.0    1"
      ]
     },
     "execution_count": 107,
     "metadata": {},
     "output_type": "execute_result"
    }
   ],
   "source": [
    "df1 = pd.DataFrame(df, index = ['d','b','a'])\n",
    "df1"
   ]
  },
  {
   "cell_type": "code",
   "execution_count": 113,
   "id": "9f2ab18a",
   "metadata": {},
   "outputs": [
    {
     "data": {
      "text/html": [
       "<div>\n",
       "<style scoped>\n",
       "    .dataframe tbody tr th:only-of-type {\n",
       "        vertical-align: middle;\n",
       "    }\n",
       "\n",
       "    .dataframe tbody tr th {\n",
       "        vertical-align: top;\n",
       "    }\n",
       "\n",
       "    .dataframe thead th {\n",
       "        text-align: right;\n",
       "    }\n",
       "</style>\n",
       "<table border=\"1\" class=\"dataframe\">\n",
       "  <thead>\n",
       "    <tr style=\"text-align: right;\">\n",
       "      <th></th>\n",
       "      <th>two</th>\n",
       "      <th>three</th>\n",
       "    </tr>\n",
       "  </thead>\n",
       "  <tbody>\n",
       "    <tr>\n",
       "      <th>b</th>\n",
       "      <td>2</td>\n",
       "      <td>20</td>\n",
       "    </tr>\n",
       "    <tr>\n",
       "      <th>a</th>\n",
       "      <td>1</td>\n",
       "      <td>10</td>\n",
       "    </tr>\n",
       "  </tbody>\n",
       "</table>\n",
       "</div>"
      ],
      "text/plain": [
       "   two  three\n",
       "b    2     20\n",
       "a    1     10"
      ]
     },
     "execution_count": 113,
     "metadata": {},
     "output_type": "execute_result"
    }
   ],
   "source": [
    "df['three'] = pd.Series([10,20,30],index=['a','b','c'])\n",
    "df2 = pd.DataFrame(df, index = ['b','a'], columns = ['two','three'])\n",
    "df2"
   ]
  },
  {
   "cell_type": "code",
   "execution_count": 125,
   "id": "153fe284",
   "metadata": {},
   "outputs": [
    {
     "name": "stdout",
     "output_type": "stream",
     "text": [
      "   one  two\n",
      "a  1.0    1\n",
      "b  2.0    2\n",
      "c  3.0    3 \n",
      "\n",
      "a    1.0\n",
      "b    2.0\n",
      "c    3.0\n",
      "Name: one, dtype: float64\n"
     ]
    }
   ],
   "source": [
    "df = {'one':pd.Series([1,2,3],index=['a','b','c']),'two':pd.Series([1,2,3,4],index=['a','b','c','d'])}\n",
    "z = pd.DataFrame(df)\n",
    "print(z[0:3],'\\n')\n",
    "print(z[0:3]['one'])"
   ]
  },
  {
   "cell_type": "code",
   "execution_count": 128,
   "id": "719eef20",
   "metadata": {},
   "outputs": [
    {
     "data": {
      "text/html": [
       "<div>\n",
       "<style scoped>\n",
       "    .dataframe tbody tr th:only-of-type {\n",
       "        vertical-align: middle;\n",
       "    }\n",
       "\n",
       "    .dataframe tbody tr th {\n",
       "        vertical-align: top;\n",
       "    }\n",
       "\n",
       "    .dataframe thead th {\n",
       "        text-align: right;\n",
       "    }\n",
       "</style>\n",
       "<table border=\"1\" class=\"dataframe\">\n",
       "  <thead>\n",
       "    <tr style=\"text-align: right;\">\n",
       "      <th></th>\n",
       "      <th>Name</th>\n",
       "      <th>Maths</th>\n",
       "      <th>Science</th>\n",
       "      <th>English</th>\n",
       "    </tr>\n",
       "  </thead>\n",
       "  <tbody>\n",
       "    <tr>\n",
       "      <th>0</th>\n",
       "      <td>Martha</td>\n",
       "      <td>90</td>\n",
       "      <td>90</td>\n",
       "      <td>90</td>\n",
       "    </tr>\n",
       "    <tr>\n",
       "      <th>1</th>\n",
       "      <td>Tim</td>\n",
       "      <td>80</td>\n",
       "      <td>80</td>\n",
       "      <td>80</td>\n",
       "    </tr>\n",
       "    <tr>\n",
       "      <th>2</th>\n",
       "      <td>Ron</td>\n",
       "      <td>70</td>\n",
       "      <td>70</td>\n",
       "      <td>70</td>\n",
       "    </tr>\n",
       "    <tr>\n",
       "      <th>3</th>\n",
       "      <td>Georgia</td>\n",
       "      <td>60</td>\n",
       "      <td>60</td>\n",
       "      <td>60</td>\n",
       "    </tr>\n",
       "  </tbody>\n",
       "</table>\n",
       "</div>"
      ],
      "text/plain": [
       "      Name  Maths  Science  English\n",
       "0   Martha     90       90       90\n",
       "1      Tim     80       80       80\n",
       "2      Ron     70       70       70\n",
       "3  Georgia     60       60       60"
      ]
     },
     "execution_count": 128,
     "metadata": {},
     "output_type": "execute_result"
    }
   ],
   "source": [
    "dict = {'Name':['Martha','Tim','Ron','Georgia'],'Maths':[90,80,70,60],'Science':[90,80,70,60],'English':[90,80,70,60]}\n",
    "z = pd.DataFrame(dict)\n",
    "z"
   ]
  },
  {
   "cell_type": "code",
   "execution_count": 138,
   "id": "03ee72cc",
   "metadata": {},
   "outputs": [
    {
     "data": {
      "text/html": [
       "<div>\n",
       "<style scoped>\n",
       "    .dataframe tbody tr th:only-of-type {\n",
       "        vertical-align: middle;\n",
       "    }\n",
       "\n",
       "    .dataframe tbody tr th {\n",
       "        vertical-align: top;\n",
       "    }\n",
       "\n",
       "    .dataframe thead th {\n",
       "        text-align: right;\n",
       "    }\n",
       "</style>\n",
       "<table border=\"1\" class=\"dataframe\">\n",
       "  <thead>\n",
       "    <tr style=\"text-align: right;\">\n",
       "      <th></th>\n",
       "      <th>Name</th>\n",
       "      <th>Maths</th>\n",
       "      <th>Science</th>\n",
       "      <th>English</th>\n",
       "    </tr>\n",
       "  </thead>\n",
       "  <tbody>\n",
       "    <tr>\n",
       "      <th>0</th>\n",
       "      <td>Martha</td>\n",
       "      <td>90</td>\n",
       "      <td>90</td>\n",
       "      <td>90</td>\n",
       "    </tr>\n",
       "    <tr>\n",
       "      <th>1</th>\n",
       "      <td>Tim</td>\n",
       "      <td>80</td>\n",
       "      <td>80</td>\n",
       "      <td>80</td>\n",
       "    </tr>\n",
       "    <tr>\n",
       "      <th>2</th>\n",
       "      <td>Ron</td>\n",
       "      <td>70</td>\n",
       "      <td>70</td>\n",
       "      <td>70</td>\n",
       "    </tr>\n",
       "    <tr>\n",
       "      <th>3</th>\n",
       "      <td>Georgia</td>\n",
       "      <td>60</td>\n",
       "      <td>60</td>\n",
       "      <td>60</td>\n",
       "    </tr>\n",
       "    <tr>\n",
       "      <th>4</th>\n",
       "      <td>Rocky</td>\n",
       "      <td>90</td>\n",
       "      <td>80</td>\n",
       "      <td>70</td>\n",
       "    </tr>\n",
       "  </tbody>\n",
       "</table>\n",
       "</div>"
      ],
      "text/plain": [
       "      Name  Maths  Science  English\n",
       "0   Martha     90       90       90\n",
       "1      Tim     80       80       80\n",
       "2      Ron     70       70       70\n",
       "3  Georgia     60       60       60\n",
       "4    Rocky     90       80       70"
      ]
     },
     "execution_count": 138,
     "metadata": {},
     "output_type": "execute_result"
    }
   ],
   "source": [
    "zf = {'Name':'Rocky','Maths':90,'Science':80,'English':70}\n",
    "df = z.append(zf, ignore_index=True)\n",
    "df"
   ]
  },
  {
   "cell_type": "code",
   "execution_count": 139,
   "id": "e1e7e16d",
   "metadata": {},
   "outputs": [
    {
     "data": {
      "text/html": [
       "<div>\n",
       "<style scoped>\n",
       "    .dataframe tbody tr th:only-of-type {\n",
       "        vertical-align: middle;\n",
       "    }\n",
       "\n",
       "    .dataframe tbody tr th {\n",
       "        vertical-align: top;\n",
       "    }\n",
       "\n",
       "    .dataframe thead th {\n",
       "        text-align: right;\n",
       "    }\n",
       "</style>\n",
       "<table border=\"1\" class=\"dataframe\">\n",
       "  <thead>\n",
       "    <tr style=\"text-align: right;\">\n",
       "      <th></th>\n",
       "      <th>Name</th>\n",
       "      <th>Maths</th>\n",
       "      <th>Science</th>\n",
       "      <th>English</th>\n",
       "    </tr>\n",
       "  </thead>\n",
       "  <tbody>\n",
       "    <tr>\n",
       "      <th>1</th>\n",
       "      <td>Tim</td>\n",
       "      <td>80</td>\n",
       "      <td>80</td>\n",
       "      <td>80</td>\n",
       "    </tr>\n",
       "    <tr>\n",
       "      <th>2</th>\n",
       "      <td>Ron</td>\n",
       "      <td>70</td>\n",
       "      <td>70</td>\n",
       "      <td>70</td>\n",
       "    </tr>\n",
       "    <tr>\n",
       "      <th>3</th>\n",
       "      <td>Georgia</td>\n",
       "      <td>60</td>\n",
       "      <td>60</td>\n",
       "      <td>60</td>\n",
       "    </tr>\n",
       "    <tr>\n",
       "      <th>4</th>\n",
       "      <td>Rocky</td>\n",
       "      <td>90</td>\n",
       "      <td>80</td>\n",
       "      <td>70</td>\n",
       "    </tr>\n",
       "  </tbody>\n",
       "</table>\n",
       "</div>"
      ],
      "text/plain": [
       "      Name  Maths  Science  English\n",
       "1      Tim     80       80       80\n",
       "2      Ron     70       70       70\n",
       "3  Georgia     60       60       60\n",
       "4    Rocky     90       80       70"
      ]
     },
     "execution_count": 139,
     "metadata": {},
     "output_type": "execute_result"
    }
   ],
   "source": [
    "df = df.drop(0)\n",
    "df"
   ]
  },
  {
   "cell_type": "markdown",
   "id": "5766ccd1",
   "metadata": {},
   "source": [
    "### Exercises"
   ]
  },
  {
   "cell_type": "markdown",
   "id": "2faf2136",
   "metadata": {},
   "source": [
    "Q.1-\tGiven the following Series1\n",
    "+ A\t100\n",
    "+ B\t200\n",
    "+ C\t300\n",
    "### Write the command to create above Series and then double the value in series and store in another series named Series2"
   ]
  },
  {
   "cell_type": "code",
   "execution_count": 144,
   "id": "e50151c0",
   "metadata": {},
   "outputs": [
    {
     "name": "stdout",
     "output_type": "stream",
     "text": [
      "A    100\n",
      "B    200\n",
      "C    300\n",
      "dtype: int64\n",
      "A    200\n",
      "B    400\n",
      "C    600\n",
      "dtype: int64\n"
     ]
    }
   ],
   "source": [
    "series = pd.Series([100,200,300], index = ['A','B','C'])\n",
    "print(series)\n",
    "series2 = 2*series\n",
    "print(series2)"
   ]
  },
  {
   "cell_type": "markdown",
   "id": "a62bf42f",
   "metadata": {},
   "source": [
    "Q.2-\tState whether True or False\n",
    "+ a.\tA series object is size mutable.\n",
    "+ b.\tA Dataframe object is value mutable"
   ]
  },
  {
   "cell_type": "code",
   "execution_count": null,
   "id": "45acc224",
   "metadata": {},
   "outputs": [],
   "source": [
    "#a - True\n",
    "#b - True"
   ]
  },
  {
   "cell_type": "markdown",
   "id": "752487e2",
   "metadata": {},
   "source": [
    "Q.3-\tConsider a given Series , Series1: \n",
    "+ 200\t700\n",
    "+ 201\t700\n",
    "+ 202\t700\n",
    "+ 203\t700\n",
    "+ 204\t700\n",
    "### Write a program in Python Pandas to create the series and display it."
   ]
  },
  {
   "cell_type": "code",
   "execution_count": 147,
   "id": "16822265",
   "metadata": {},
   "outputs": [
    {
     "name": "stdout",
     "output_type": "stream",
     "text": [
      "200    700\n",
      "201    700\n",
      "202    700\n",
      "203    700\n",
      "204    700\n",
      "dtype: int64\n"
     ]
    }
   ],
   "source": [
    "series = pd.Series([700,700,700,700,700], index = ['200','201','202','203','204'])\n",
    "print(series)"
   ]
  },
  {
   "cell_type": "markdown",
   "id": "e2df3a72",
   "metadata": {},
   "source": [
    "Q.4-\tConsider the following Series object, \n",
    "+ s IP\t95\n",
    "+ Physics\t89\n",
    "+ Chemistry\t92\n",
    "+ Math\t95\n",
    "+ i.\tWrite the Python syntax which will display only IP.\n",
    "+ ii.\tWrite the Python syntax to increase marks\n",
    "of all subjects by 10."
   ]
  },
  {
   "cell_type": "code",
   "execution_count": 167,
   "id": "a6ddbd02",
   "metadata": {},
   "outputs": [
    {
     "data": {
      "text/html": [
       "<div>\n",
       "<style scoped>\n",
       "    .dataframe tbody tr th:only-of-type {\n",
       "        vertical-align: middle;\n",
       "    }\n",
       "\n",
       "    .dataframe tbody tr th {\n",
       "        vertical-align: top;\n",
       "    }\n",
       "\n",
       "    .dataframe thead th {\n",
       "        text-align: right;\n",
       "    }\n",
       "</style>\n",
       "<table border=\"1\" class=\"dataframe\">\n",
       "  <thead>\n",
       "    <tr style=\"text-align: right;\">\n",
       "      <th></th>\n",
       "      <th>Subjects</th>\n",
       "      <th>Marks</th>\n",
       "    </tr>\n",
       "  </thead>\n",
       "  <tbody>\n",
       "    <tr>\n",
       "      <th>0</th>\n",
       "      <td>IP</td>\n",
       "      <td>95</td>\n",
       "    </tr>\n",
       "    <tr>\n",
       "      <th>1</th>\n",
       "      <td>Physics</td>\n",
       "      <td>89</td>\n",
       "    </tr>\n",
       "    <tr>\n",
       "      <th>2</th>\n",
       "      <td>Chemistry</td>\n",
       "      <td>92</td>\n",
       "    </tr>\n",
       "    <tr>\n",
       "      <th>3</th>\n",
       "      <td>Math</td>\n",
       "      <td>95</td>\n",
       "    </tr>\n",
       "  </tbody>\n",
       "</table>\n",
       "</div>"
      ],
      "text/plain": [
       "    Subjects  Marks\n",
       "0         IP     95\n",
       "1    Physics     89\n",
       "2  Chemistry     92\n",
       "3       Math     95"
      ]
     },
     "execution_count": 167,
     "metadata": {},
     "output_type": "execute_result"
    }
   ],
   "source": [
    "#series = pd.Series([95,89,92,95], index = ['IP','Physics','Chemistry','Math'])\n",
    "#print(series)\n",
    "df = {'Subjects':pd.Series(['IP','Physics','Chemistry','Math']),'Marks':pd.Series([95,89,92,95])}\n",
    "series = pd.DataFrame(df)\n",
    "series"
   ]
  },
  {
   "cell_type": "code",
   "execution_count": 173,
   "id": "b9cef525",
   "metadata": {},
   "outputs": [
    {
     "name": "stdout",
     "output_type": "stream",
     "text": [
      "0    IP\n",
      "Name: Subjects, dtype: object\n"
     ]
    }
   ],
   "source": [
    "df = pd.DataFrame(series)['Subjects'][0:1]\n",
    "print(df)"
   ]
  },
  {
   "cell_type": "code",
   "execution_count": 178,
   "id": "415b5a5b",
   "metadata": {},
   "outputs": [
    {
     "data": {
      "text/html": [
       "<div>\n",
       "<style scoped>\n",
       "    .dataframe tbody tr th:only-of-type {\n",
       "        vertical-align: middle;\n",
       "    }\n",
       "\n",
       "    .dataframe tbody tr th {\n",
       "        vertical-align: top;\n",
       "    }\n",
       "\n",
       "    .dataframe thead th {\n",
       "        text-align: right;\n",
       "    }\n",
       "</style>\n",
       "<table border=\"1\" class=\"dataframe\">\n",
       "  <thead>\n",
       "    <tr style=\"text-align: right;\">\n",
       "      <th></th>\n",
       "      <th>Subjects</th>\n",
       "      <th>Marks</th>\n",
       "    </tr>\n",
       "  </thead>\n",
       "  <tbody>\n",
       "    <tr>\n",
       "      <th>0</th>\n",
       "      <td>IP</td>\n",
       "      <td>115</td>\n",
       "    </tr>\n",
       "    <tr>\n",
       "      <th>1</th>\n",
       "      <td>Physics</td>\n",
       "      <td>109</td>\n",
       "    </tr>\n",
       "    <tr>\n",
       "      <th>2</th>\n",
       "      <td>Chemistry</td>\n",
       "      <td>112</td>\n",
       "    </tr>\n",
       "    <tr>\n",
       "      <th>3</th>\n",
       "      <td>Math</td>\n",
       "      <td>115</td>\n",
       "    </tr>\n",
       "  </tbody>\n",
       "</table>\n",
       "</div>"
      ],
      "text/plain": [
       "    Subjects  Marks\n",
       "0         IP    115\n",
       "1    Physics    109\n",
       "2  Chemistry    112\n",
       "3       Math    115"
      ]
     },
     "execution_count": 178,
     "metadata": {},
     "output_type": "execute_result"
    }
   ],
   "source": [
    "series['Marks'] = series['Marks'] + 10\n",
    "series"
   ]
  },
  {
   "cell_type": "markdown",
   "id": "6e04d013",
   "metadata": {},
   "source": [
    "Q.5-\tConsider a given series : SQTR\n",
    "+ QTR1\t50000\n",
    "+ QTR2\t65890\n",
    "+ QTR3\t56780\n",
    "+ QTR4\t89000\n",
    "+ QTR5\t77900\n",
    "### Write a program in Python Pandas to create and display the series."
   ]
  },
  {
   "cell_type": "code",
   "execution_count": 164,
   "id": "97db2641",
   "metadata": {},
   "outputs": [
    {
     "data": {
      "text/plain": [
       "QTR1    50000\n",
       "QTR2    65890\n",
       "QTR3    56780\n",
       "QTR4    89000\n",
       "QTR5    77900\n",
       "dtype: int64"
      ]
     },
     "execution_count": 164,
     "metadata": {},
     "output_type": "execute_result"
    }
   ],
   "source": [
    "s = pd.Series([50000,65890,56780,89000,77900], index = ['QTR1','QTR2','QTR3','QTR4','QTR5'])\n",
    "s"
   ]
  },
  {
   "cell_type": "markdown",
   "id": "cc3ce943",
   "metadata": {},
   "source": [
    "##### Q.6-\tWhat will be the output produced by the following programming statements 1 & 2? \n",
    "##### import pandas as pd \n",
    "##### S1=pd.Series(data=[31,41,51]) \n",
    "##### -->Statement1\n",
    "##### print(S1>40)\n",
    "##### -->Statement2\n",
    "##### print(S1[S1>40])\t\n"
   ]
  },
  {
   "cell_type": "code",
   "execution_count": 183,
   "id": "ab2f710f",
   "metadata": {},
   "outputs": [
    {
     "name": "stdout",
     "output_type": "stream",
     "text": [
      "0    False\n",
      "1     True\n",
      "2     True\n",
      "dtype: bool \n",
      "\n",
      "1    41\n",
      "2    51\n",
      "dtype: int64\n"
     ]
    }
   ],
   "source": [
    "s1 = pd.Series(data = [31,41,51])\n",
    "print(s1 > 40,'\\n')\n",
    "print(s1[s1 > 40])"
   ]
  },
  {
   "cell_type": "markdown",
   "id": "66f077e5",
   "metadata": {},
   "source": [
    "##### Q.7-\tGiven two series S1 and S2\n",
    "+ A\t39\tA\t10\n",
    "+ B\t41\tB\t10\n",
    "+ C\t42\tD\t10\n",
    "+ D\t44\tF\t10\n",
    "##### Find the output for following python pandas statements?\n",
    "+ a. S1[ : 2]*100\n",
    "+ b.  S1 * S2\n",
    "+ c. S2[ : : -1]*10"
   ]
  },
  {
   "cell_type": "code",
   "execution_count": 188,
   "metadata": {},
   "outputs": [],
   "source": [
    "s1 = pd.Series([39,41,42,44],index = ['A','B','C','D'])\n",
    "s2 = pd.Series([10,10,10,10],index = ['A','B','C','D'])"
   ]
  },
  {
   "cell_type": "code",
   "execution_count": 191,
   "id": "a2add51a",
   "metadata": {},
   "outputs": [
    {
     "data": {
      "text/plain": [
       "A    3900\n",
       "B    4100\n",
       "dtype: int64"
      ]
     },
     "execution_count": 191,
     "metadata": {},
     "output_type": "execute_result"
    }
   ],
   "source": [
    "s1[:2]*100"
   ]
  },
  {
   "cell_type": "code",
   "execution_count": 193,
   "id": "a632c66d",
   "metadata": {},
   "outputs": [
    {
     "data": {
      "text/plain": [
       "A    390\n",
       "B    410\n",
       "C    420\n",
       "D    440\n",
       "dtype: int64"
      ]
     },
     "execution_count": 193,
     "metadata": {},
     "output_type": "execute_result"
    }
   ],
   "source": [
    "s1*s2"
   ]
  },
  {
   "cell_type": "code",
   "execution_count": 194,
   "id": "e8895f2a",
   "metadata": {},
   "outputs": [
    {
     "data": {
      "text/plain": [
       "D    100\n",
       "C    100\n",
       "B    100\n",
       "A    100\n",
       "dtype: int64"
      ]
     },
     "execution_count": 194,
     "metadata": {},
     "output_type": "execute_result"
    }
   ],
   "source": [
    "s2[::-1]*10"
   ]
  },
  {
   "cell_type": "markdown",
   "id": "c2f4fdd3",
   "metadata": {},
   "source": [
    "##### Q.8-\tGiven the following Series S1 and S2:\n",
    "\n",
    "+ A\t10\tA\t5\n",
    "+ B\t20\tB\t4\n",
    "+ C\t30\tC\t6\n",
    "+ D\t40\tD\t8\n",
    "##### Write the command to find the multiplication of series S1 and S2"
   ]
  },
  {
   "cell_type": "code",
   "execution_count": 196,
   "id": "f830114c",
   "metadata": {},
   "outputs": [],
   "source": [
    "s1 = pd.Series([10,20,30,40],index = ['A','B','C','D'])\n",
    "s2 = pd.Series([5,4,6,8],index = ['A','B','C','D'])"
   ]
  },
  {
   "cell_type": "code",
   "execution_count": 198,
   "id": "134bcb22",
   "metadata": {},
   "outputs": [
    {
     "data": {
      "text/plain": [
       "A     50\n",
       "B     80\n",
       "C    180\n",
       "D    320\n",
       "dtype: int64"
      ]
     },
     "execution_count": 198,
     "metadata": {},
     "output_type": "execute_result"
    }
   ],
   "source": [
    "s1*s2"
   ]
  },
  {
   "cell_type": "markdown",
   "id": "3a6364c4",
   "metadata": {},
   "source": [
    "##### Q.9-\tConsider a given Series , Subject: \n",
    "+ ENGLISH 75\n",
    "+ HINDI\t78\n",
    "+ MATHS\t82\n",
    "+ SCIENCE 86\n",
    "##### Write a program in Python Pandas to create this series"
   ]
  },
  {
   "cell_type": "code",
   "execution_count": 205,
   "id": "34bfa89a",
   "metadata": {},
   "outputs": [
    {
     "data": {
      "text/plain": [
       "ENGLISH    75\n",
       "HINDI      78\n",
       "MATHS      82\n",
       "SCIENCE    86\n",
       "dtype: int64"
      ]
     },
     "execution_count": 205,
     "metadata": {},
     "output_type": "execute_result"
    }
   ],
   "source": [
    "s1 = pd.Series([75,78,82,86],index = ['ENGLISH','HINDI','MATHS','SCIENCE'])\n",
    "s1"
   ]
  },
  {
   "cell_type": "markdown",
   "id": "3afca9ae",
   "metadata": {},
   "source": [
    "##### Q.10-\tConsider the following Series object, “company” and its profit in Crores\n",
    "+ TCS\t350\n",
    "+ Reliance\t200\n",
    "+ L&T\t800\n",
    "+ Wipro\t150\n",
    "+ i. Write the command which will display the\n",
    "\tname of the company having profit>250.\n",
    "+ ii. Write the command to name the series as\n",
    "\tProfit."
   ]
  },
  {
   "cell_type": "code",
   "execution_count": 216,
   "id": "a2d90202",
   "metadata": {},
   "outputs": [
    {
     "name": "stdout",
     "output_type": "stream",
     "text": [
      "TCS    350\n",
      "L&T    800\n",
      "dtype: int64 \n",
      "\n",
      "TCS         350\n",
      "Reliance    200\n",
      "L&T         800\n",
      "Wipro       150\n",
      "dtype: int64\n"
     ]
    }
   ],
   "source": [
    "c = pd.Series([350,200,800,150],index = ['TCS','Reliance','L&T','Wipro'])\n",
    "print(c[c > 250],'\\n')\n",
    "Profit = c\n",
    "print(Profit)"
   ]
  },
  {
   "cell_type": "markdown",
   "id": "59c63ba4",
   "metadata": {},
   "source": [
    "##### Q.11-\tConsider two objects a and b.\n",
    "##### a is a list whereas b is a Series. Both have values 10,20,25,50.\n",
    "##### What will be the output of the following two statements considering that the above objects have been created already\n",
    "##### a. print(a*2)\tb. print(b*2) Justify your answer."
   ]
  },
  {
   "cell_type": "code",
   "execution_count": 219,
   "id": "9a33eb3a",
   "metadata": {},
   "outputs": [
    {
     "name": "stdout",
     "output_type": "stream",
     "text": [
      "[10, 20, 25, 50]\n",
      "0    10\n",
      "1    20\n",
      "2    25\n",
      "3    50\n",
      "dtype: int64\n"
     ]
    }
   ],
   "source": [
    "a2 = [10,20,25,50]\n",
    "b2 = pd.Series([10,20,25,50])\n",
    "print(a2)\n",
    "print(b2)"
   ]
  },
  {
   "cell_type": "markdown",
   "id": "166a8ddd",
   "metadata": {},
   "source": [
    "##### Q.12-\tGiven a Pandas series called Sample, the command which will display the last 3 rows is .\n",
    "+ a.\tprint(Sample.tail(3))\n",
    "+ b.\tprint(Sample.Tail(3))\n",
    "+ c.\tprint(Sample.tails(3)\n",
    "+ d.\tprint(Sample.Tails(3))"
   ]
  },
  {
   "cell_type": "code",
   "execution_count": 226,
   "id": "9d35ffd4",
   "metadata": {},
   "outputs": [
    {
     "name": "stdout",
     "output_type": "stream",
     "text": [
      "7    8\n",
      "8    9\n",
      "9    0\n",
      "dtype: int64\n"
     ]
    }
   ],
   "source": [
    "Sample = pd.Series([1,2,3,4,5,6,7,8,9,0])\n",
    "print(Sample.tail(3))"
   ]
  },
  {
   "cell_type": "markdown",
   "id": "432dd799",
   "metadata": {},
   "source": [
    "##### Q.13-\tWhat will be the output of the following code?\n",
    "+ import pandas as pd\n",
    "+ s = pd.Series(6,index=range(0,5)) print(s)"
   ]
  },
  {
   "cell_type": "code",
   "execution_count": 227,
   "id": "bc8a0a28",
   "metadata": {},
   "outputs": [
    {
     "name": "stdout",
     "output_type": "stream",
     "text": [
      "0    6\n",
      "1    6\n",
      "2    6\n",
      "3    6\n",
      "4    6\n",
      "dtype: int64\n"
     ]
    }
   ],
   "source": [
    "s = pd.Series(6,index=range(0,5)) \n",
    "print(s)"
   ]
  },
  {
   "cell_type": "markdown",
   "id": "849dcd91",
   "metadata": {},
   "source": [
    "##### Q.14-\tIf series s1 is having following data,\n",
    " \n",
    "##### What would be the result of the command\n",
    "+ print(s1[3:6])?"
   ]
  },
  {
   "cell_type": "code",
   "execution_count": 229,
   "id": "7357135e",
   "metadata": {},
   "outputs": [
    {
     "name": "stdout",
     "output_type": "stream",
     "text": [
      "3    4\n",
      "4    5\n",
      "5    6\n",
      "dtype: int64\n"
     ]
    }
   ],
   "source": [
    "s1 = pd.Series([1,2,3,4,5,6,7,8,9,0])\n",
    "print(s1[3:6])"
   ]
  },
  {
   "cell_type": "markdown",
   "id": "e2f99b80",
   "metadata": {},
   "source": [
    "##### Q.15-\tWhat will be the output of the following code?\n",
    "+ import pandas as pd \n",
    "+ import numpy as np\n",
    "+ s = pd.Series(np.arange(10,50,10)) \n",
    "+ print(s)\n",
    "+ print(s.ndim) \n",
    "+ print(s.shape) \n",
    "+ print(len(s))"
   ]
  },
  {
   "cell_type": "code",
   "execution_count": 230,
   "id": "8773ae86",
   "metadata": {},
   "outputs": [
    {
     "name": "stdout",
     "output_type": "stream",
     "text": [
      "0    10\n",
      "1    20\n",
      "2    30\n",
      "3    40\n",
      "dtype: int32\n",
      "1\n",
      "(4,)\n",
      "4\n"
     ]
    }
   ],
   "source": [
    "s = pd.Series(np.arange(10,50,10)) \n",
    "print(s)\n",
    "print(s.ndim) \n",
    "print(s.shape) \n",
    "print(len(s))"
   ]
  },
  {
   "cell_type": "markdown",
   "id": "8c3d6088",
   "metadata": {},
   "source": [
    "##### Q.16-\tWrite a program to create a Series having 10 random numbers in the range of 10 and 20\n",
    " "
   ]
  },
  {
   "cell_type": "code",
   "execution_count": 237,
   "id": "db801f98",
   "metadata": {},
   "outputs": [
    {
     "data": {
      "text/plain": [
       "0    13\n",
       "1    10\n",
       "2    13\n",
       "3    12\n",
       "4    11\n",
       "5    16\n",
       "6    17\n",
       "7    12\n",
       "8    11\n",
       "9    13\n",
       "dtype: int32"
      ]
     },
     "execution_count": 237,
     "metadata": {},
     "output_type": "execute_result"
    }
   ],
   "source": [
    "pd.Series(np.random.randint(size = 10,low = 10,high = 20))"
   ]
  },
  {
   "cell_type": "markdown",
   "id": "d007ef92",
   "metadata": {},
   "source": [
    "##### Q.17-\tConsider the following Series ‘s’- 0\t4.0\n",
    "+ 1\t5.0\n",
    "+ 2\t7.0\n",
    "+ 3\tNaN\n",
    "+ 4\t1.0\n",
    "+ 5\t10.0\n",
    "+ dtype: float64\n",
    "+ (i)\tWrite a Python code to add 1 to all the elements.\n",
    "+ (ii)\tWrite a code to replace all NaN with 0."
   ]
  },
  {
   "cell_type": "code",
   "execution_count": 255,
   "id": "1312b28e",
   "metadata": {},
   "outputs": [
    {
     "data": {
      "text/plain": [
       "1     5.0\n",
       "2     7.0\n",
       "3     NaN\n",
       "4     1.0\n",
       "5    10.0\n",
       "dtype: float64"
      ]
     },
     "execution_count": 255,
     "metadata": {},
     "output_type": "execute_result"
    }
   ],
   "source": [
    "a = pd.Series([5.0,7.0,np.nan,1.0,10.0],index = ['1','2','3','4','5'])\n",
    "a"
   ]
  },
  {
   "cell_type": "code",
   "execution_count": 257,
   "id": "51de45a1",
   "metadata": {},
   "outputs": [
    {
     "name": "stdout",
     "output_type": "stream",
     "text": [
      "1     6.0\n",
      "2     8.0\n",
      "3     NaN\n",
      "4     2.0\n",
      "5    11.0\n",
      "dtype: float64\n",
      "1     6.0\n",
      "2     8.0\n",
      "3     0.0\n",
      "4     2.0\n",
      "5    11.0\n",
      "dtype: float64\n"
     ]
    }
   ],
   "source": [
    "a = a + 1\n",
    "print(a)\n",
    "a = a.fillna(0)\n",
    "print(a)"
   ]
  },
  {
   "cell_type": "markdown",
   "id": "6f95e38d",
   "metadata": {},
   "source": [
    "##### Q.18-\tPredict the output of the following code. \n",
    "+ import pandas as pd\n",
    "+ import numpy as np\n",
    "+ data = {'one':'a','two':'b','three':'c'} \n",
    "+ s=pd.Series(data)\n",
    "+ print(s) \n",
    "+ print(s.size)"
   ]
  },
  {
   "cell_type": "code",
   "execution_count": 258,
   "id": "0b773b8f",
   "metadata": {},
   "outputs": [
    {
     "name": "stdout",
     "output_type": "stream",
     "text": [
      "one      a\n",
      "two      b\n",
      "three    c\n",
      "dtype: object\n",
      "3\n"
     ]
    }
   ],
   "source": [
    "#Series and 3.\n",
    "data = {'one':'a','two':'b','three':'c'} \n",
    "s=pd.Series(data)\n",
    "print(s) \n",
    "print(s.size)"
   ]
  },
  {
   "cell_type": "markdown",
   "id": "be865bd9",
   "metadata": {},
   "source": [
    "##### Q.19-\tCreate a Series object S1 using a python sequence [2,4,6,8] and default indices.\n"
   ]
  },
  {
   "cell_type": "code",
   "execution_count": 259,
   "id": "450091ad",
   "metadata": {},
   "outputs": [
    {
     "data": {
      "text/plain": [
       "0    2\n",
       "1    4\n",
       "2    6\n",
       "3    8\n",
       "dtype: int64"
      ]
     },
     "execution_count": 259,
     "metadata": {},
     "output_type": "execute_result"
    }
   ],
   "source": [
    "pd.Series([2,4,6,8])"
   ]
  },
  {
   "cell_type": "markdown",
   "id": "eb796473",
   "metadata": {},
   "source": [
    "##### Q.20-\tWrite the output of the following code fragment. \n",
    "+ import pandas as pd\n",
    "+ s2=pd.Series([\"i\",\"am\", \"a\",\"student\"]) \n",
    "+ print(s2)"
   ]
  },
  {
   "cell_type": "code",
   "execution_count": 260,
   "id": "c463b9ed",
   "metadata": {},
   "outputs": [
    {
     "data": {
      "text/plain": [
       "0          i\n",
       "1         am\n",
       "2          a\n",
       "3    student\n",
       "dtype: object"
      ]
     },
     "execution_count": 260,
     "metadata": {},
     "output_type": "execute_result"
    }
   ],
   "source": [
    "s2 = pd.Series(['i','am','a','student'])\n",
    "s2"
   ]
  },
  {
   "cell_type": "markdown",
   "id": "61da2406",
   "metadata": {},
   "source": [
    "##### Q.21-\tWrite the output of the following code fragment. \n",
    "+ import pandas as pd \n",
    "+ s1=pd.Series(200,index=range(2,13,2))\n",
    "+ print(s1)"
   ]
  },
  {
   "cell_type": "code",
   "execution_count": 261,
   "id": "9fb21e4e",
   "metadata": {},
   "outputs": [
    {
     "data": {
      "text/plain": [
       "2     200\n",
       "4     200\n",
       "6     200\n",
       "8     200\n",
       "10    200\n",
       "12    200\n",
       "dtype: int64"
      ]
     },
     "execution_count": 261,
     "metadata": {},
     "output_type": "execute_result"
    }
   ],
   "source": [
    "s1=pd.Series(200,index=range(2,13,2))\n",
    "s1"
   ]
  },
  {
   "cell_type": "markdown",
   "id": "f128cc3f",
   "metadata": {},
   "source": [
    "##### Q.22-\tWrite the output of the following code fragment. \n",
    "+ import pandas as pd\n",
    "+ s1=pd.Series(range(2,11,2), index=[x for x in \"abcde\"])\n",
    "+ print(s1)"
   ]
  },
  {
   "cell_type": "code",
   "execution_count": 263,
   "id": "4b214321",
   "metadata": {},
   "outputs": [
    {
     "data": {
      "text/plain": [
       "a     2\n",
       "b     4\n",
       "c     6\n",
       "d     8\n",
       "e    10\n",
       "dtype: int64"
      ]
     },
     "execution_count": 263,
     "metadata": {},
     "output_type": "execute_result"
    }
   ],
   "source": [
    "s1=pd.Series(range(2,11,2), index=[x for x in \"abcde\"])\n",
    "s1"
   ]
  },
  {
   "cell_type": "markdown",
   "id": "475de77f",
   "metadata": {},
   "source": [
    "##### Q.23-\tWrite the output of the following code fragment. \n",
    "+ import pandas as pd\n",
    "+ import numpy as np \n",
    "+ x=np.arange(10,15) \n",
    "+ s3=pd.Series(index=x, data=x*2) \n",
    "+ s4=pd.Series(x**2,x)\n",
    "+ print(s3) \n",
    "+ print(s4)"
   ]
  },
  {
   "cell_type": "code",
   "execution_count": 264,
   "id": "614b5dee",
   "metadata": {},
   "outputs": [
    {
     "name": "stdout",
     "output_type": "stream",
     "text": [
      "10    20\n",
      "11    22\n",
      "12    24\n",
      "13    26\n",
      "14    28\n",
      "dtype: int32\n",
      "10    100\n",
      "11    121\n",
      "12    144\n",
      "13    169\n",
      "14    196\n",
      "dtype: int32\n"
     ]
    }
   ],
   "source": [
    "x=np.arange(10,15) \n",
    "s3=pd.Series(index=x, data=x*2) \n",
    "s4=pd.Series(x**2,x)\n",
    "print(s3) \n",
    "print(s4)"
   ]
  },
  {
   "cell_type": "markdown",
   "id": "601311f4",
   "metadata": {},
   "source": [
    "##### Q.24-\tSequences section and contribution store the section name ( 'A','B','C','D','E') and contribution (8900,8700,7800,6500,nil) for charity. Your school has decided to donate more contribution by each section, so donation has been doubled.\n",
    "Write code to create series object that stores the contribution amount as the values and section name as indexes with data type as float32."
   ]
  },
  {
   "cell_type": "code",
   "execution_count": 267,
   "id": "88502520",
   "metadata": {},
   "outputs": [
    {
     "data": {
      "text/plain": [
       "A    8900.0\n",
       "B    8700.0\n",
       "C    7800.0\n",
       "D    6500.0\n",
       "E       NaN\n",
       "dtype: float64"
      ]
     },
     "execution_count": 267,
     "metadata": {},
     "output_type": "execute_result"
    }
   ],
   "source": [
    "s = pd.Series([8900,8700,7800,6500, None], index = ['A','B','C','D','E'], dtype = np.float64)\n",
    "s"
   ]
  },
  {
   "cell_type": "markdown",
   "id": "efeb8389",
   "metadata": {},
   "source": [
    "##### Q.25-\tWrite the output of the following code fragment. import pandas as pd\n",
    "+ import numpy as np \n",
    "+ val1=np.arange(5.25,50,10.25) \n",
    "+ ser1=pd.Series(val1,index=['a','b','a','a','b']) \n",
    "+ print(ser1)\n",
    "+ print(ser1['a'])\n",
    "+ print(ser1['b'])"
   ]
  },
  {
   "cell_type": "code",
   "execution_count": 268,
   "id": "dda6d3b7",
   "metadata": {},
   "outputs": [
    {
     "name": "stdout",
     "output_type": "stream",
     "text": [
      "a     5.25\n",
      "b    15.50\n",
      "a    25.75\n",
      "a    36.00\n",
      "b    46.25\n",
      "dtype: float64\n",
      "a     5.25\n",
      "a    25.75\n",
      "a    36.00\n",
      "dtype: float64\n",
      "b    15.50\n",
      "b    46.25\n",
      "dtype: float64\n"
     ]
    }
   ],
   "source": [
    "val1=np.arange(5.25,50,10.25) \n",
    "ser1=pd.Series(val1,index=['a','b','a','a','b']) \n",
    "print(ser1)\n",
    "print(ser1['a'])\n",
    "print(ser1['b'])"
   ]
  }
 ],
 "metadata": {
  "kernelspec": {
   "display_name": "Python 3.9.12 ('base')",
   "language": "python",
   "name": "python3"
  },
  "language_info": {
   "codemirror_mode": {
    "name": "ipython",
    "version": 3
   },
   "file_extension": ".py",
   "mimetype": "text/x-python",
   "name": "python",
   "nbconvert_exporter": "python",
   "pygments_lexer": "ipython3",
   "version": "3.9.12"
  },
  "vscode": {
   "interpreter": {
    "hash": "f0787a4b7a4c9a4ef0aba09e2d0f6d83cf5821c5eaf9eb9d9c482dcf298b656c"
   }
  }
 },
 "nbformat": 4,
 "nbformat_minor": 5
}
